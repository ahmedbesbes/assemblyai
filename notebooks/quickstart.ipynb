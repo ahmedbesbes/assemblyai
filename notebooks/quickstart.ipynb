{
 "cells": [
  {
   "cell_type": "code",
   "execution_count": null,
   "id": "55a36db2-2250-40ed-b62d-56a1eef8a4d0",
   "metadata": {},
   "outputs": [],
   "source": [
    "%config Completer.use_jedi=False\n",
    "%load_ext autoreload\n",
    "%autoreload 2"
   ]
  },
  {
   "cell_type": "code",
   "execution_count": null,
   "id": "addfd816-fd6b-466a-8373-cae2301c27ed",
   "metadata": {},
   "outputs": [],
   "source": [
    "import sys\n",
    "\n",
    "sys.path.append(\"../\")"
   ]
  },
  {
   "cell_type": "code",
   "execution_count": null,
   "id": "60ca2cfc-3881-478e-9e9a-599b361b53f4",
   "metadata": {},
   "outputs": [],
   "source": [
    "from youtube_transcriber import YoutubeTranscriber"
   ]
  },
  {
   "cell_type": "code",
   "execution_count": null,
   "id": "01b26145-ccbc-4004-a18c-2085152b0b52",
   "metadata": {},
   "outputs": [],
   "source": [
    "video_url = \"https://www.youtube.com/watch?v=3vDWWy4CMhE\""
   ]
  },
  {
   "cell_type": "code",
   "execution_count": null,
   "id": "cc145ecd-c5e2-469d-851c-cf96d879708b",
   "metadata": {},
   "outputs": [],
   "source": [
    "youtube_transcriber = YoutubeTranscriber(video_url)"
   ]
  },
  {
   "cell_type": "code",
   "execution_count": null,
   "id": "bcc46140-ae79-4988-9641-7c8128899db1",
   "metadata": {},
   "outputs": [],
   "source": [
    "youtube_transcriber.download_audio()"
   ]
  },
  {
   "cell_type": "code",
   "execution_count": null,
   "id": "97869316-43fe-4a07-a29a-3988b23b31a7",
   "metadata": {},
   "outputs": [],
   "source": [
    "youtube_transcriber.upload_audio()"
   ]
  },
  {
   "cell_type": "code",
   "execution_count": null,
   "id": "e26a25bc-b620-45a0-adc2-bd5e3923946f",
   "metadata": {},
   "outputs": [],
   "source": [
    "youtube_transcriber.submit()"
   ]
  },
  {
   "cell_type": "code",
   "execution_count": null,
   "id": "03fc379c-20e7-4bdc-a031-1ef42c38af26",
   "metadata": {},
   "outputs": [],
   "source": [
    "youtube_transcriber.poll()"
   ]
  },
  {
   "cell_type": "code",
   "execution_count": null,
   "id": "692bda66-6fa0-41a9-88b5-7aa6ecc5d77d",
   "metadata": {
    "tags": []
   },
   "outputs": [],
   "source": [
    "youtube_transcriber.transcription"
   ]
  }
 ],
 "metadata": {
  "kernelspec": {
   "display_name": "Python 3",
   "language": "python",
   "name": "python3"
  },
  "language_info": {
   "codemirror_mode": {
    "name": "ipython",
    "version": 3
   },
   "file_extension": ".py",
   "mimetype": "text/x-python",
   "name": "python",
   "nbconvert_exporter": "python",
   "pygments_lexer": "ipython3",
   "version": "3.7.10"
  }
 },
 "nbformat": 4,
 "nbformat_minor": 5
}
